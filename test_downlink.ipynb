{
 "cells": [
  {
   "cell_type": "code",
   "execution_count": 1,
   "id": "2cfb872e-2ecc-4b69-bfad-083054a8bf3d",
   "metadata": {},
   "outputs": [],
   "source": [
    "from astropy.time import Time\n",
    "import numpy as np \n",
    "\n",
    "\"\"\" Satellite orbital parameters \"\"\"\n",
    "VE = Time(\"2024-3-20 3:6:0\") # current year's Vernal Equinox\n",
    "T0 = VE\n",
    "ecco = 0\n",
    "argpo = 0 # degrees\n",
    "inclo = 97.8 # degrees\n",
    "RAAN = 270 # degrees\n",
    "period = 100.9 # minutes\n",
    "mo = 0 # degrees\n",
    "\n",
    "\"\"\" Spacecraft body-frame vectors \"\"\"\n",
    "telescope_boresight = np.array([1, 0, 0])\n",
    "solar_array = np.array([0, 0, -1])\n",
    "antenna1 = np.array([0, np.sin(np.pi/6), np.cos(np.pi/6)])\n",
    "antenna2 = np.array([0, np.sin(-np.pi/6), np.cos(-np.pi/6)])\n",
    "antennas = [antenna1, antenna2]\n",
    "antenna = antenna1"
   ]
  },
  {
   "cell_type": "code",
   "execution_count": 2,
   "id": "d6f2bfe2-28d7-4849-935b-b97628398fe1",
   "metadata": {},
   "outputs": [
    {
     "name": "stderr",
     "output_type": "stream",
     "text": [
      "/Users/michellekao/Desktop/castor_env/lib/python3.10/site-packages/erfa/core.py:154: ErfaWarning: ERFA function \"dtf2d\" yielded 1 of \"dubious year (Note 6)\"\n",
      "  warnings.warn('ERFA function \"{}\" yielded {}'.format(func_name, wmsg),\n"
     ]
    },
    {
     "data": {
      "text/plain": [
       "<EarthSatellite catalog #0 epoch 2024-03-20 03:06:00 UTC>"
      ]
     },
     "execution_count": 2,
     "metadata": {},
     "output_type": "execute_result"
    }
   ],
   "source": [
    "from satellite import Satellite\n",
    "satellite = Satellite.build_from_orbit(T0, ecco, argpo, inclo, RAAN, period, mo)\n",
    "satellite"
   ]
  },
  {
   "cell_type": "code",
   "execution_count": 3,
   "id": "5354ba56-752d-4cf2-b54c-b936fd856548",
   "metadata": {},
   "outputs": [],
   "source": [
    "\"\"\" Downlink parameters \"\"\"\n",
    "# onboard data capacity\n",
    "onboard_data_cap = 725 # in GB\n",
    "# start searching for ground station when data onboard reaches this threshold\n",
    "data_threshold = onboard_data_cap - 50 # in GB\n",
    "# downlinking rate\n",
    "downlink_rate = 10/8 # GBps\n",
    "\n",
    "# a list of ground station locations \n",
    "ground_latlons = [(34.1478, -118.1445), (37.8213, 22.661), (35.6764, 139.65), \n",
    "                  (45.5037, -73.4292), (68.3194, -133.5492), (48.5204, -123.4188)]\n",
    "ground_station_num = len(ground_latlons)\n",
    "# maximum cloud coverage percentage allowed for optical downlinking\n",
    "max_cloud_cover = 35 # %\n",
    "# minimum angle above ground station horizon to perform downlink\n",
    "elevation_min = 30 # degrees\n",
    "# the antenna's maximum pivot angle from Nadir\n",
    "pivot_angle = 62 # degrees"
   ]
  },
  {
   "cell_type": "code",
   "execution_count": 4,
   "id": "7b4e83ef-18a9-4fe4-a07a-b30a6185fcee",
   "metadata": {},
   "outputs": [
    {
     "name": "stdout",
     "output_type": "stream",
     "text": [
      "code runtime: 0.9153834361194944 min\n"
     ]
    },
    {
     "data": {
      "text/plain": [
       "[(<Time object: scale='utc' format='iso' value=2024-10-30 00:26:11.965>,\n",
       "  <Time object: scale='utc' format='iso' value=2024-10-30 00:30:34.965>),\n",
       " (<Time object: scale='utc' format='iso' value=2024-10-30 07:09:57.611>,\n",
       "  <Time object: scale='utc' format='iso' value=2024-10-30 07:13:36.611>),\n",
       " (<Time object: scale='utc' format='iso' value=2024-10-30 11:42:04.293>,\n",
       "  <Time object: scale='utc' format='iso' value=2024-10-30 11:46:10.293>),\n",
       " (<Time object: scale='utc' format='iso' value=2024-10-30 18:26:25.737>,\n",
       "  <Time object: scale='utc' format='iso' value=2024-10-30 18:30:17.737>)]"
      ]
     },
     "execution_count": 4,
     "metadata": {},
     "output_type": "execute_result"
    }
   ],
   "source": [
    "from targets import InertialTarget, SolarSystemTarget, EarthOrbitingTarget, EarthFixedTarget\n",
    "from windows import Window\n",
    "from astropy.time import Time\n",
    "import astropy.units as u\n",
    "\n",
    "import timeit\n",
    "code_start = timeit.default_timer()\n",
    "\n",
    "# Define ground station target objects\n",
    "ground_targets = [EarthFixedTarget(lat, lon) for lat, lon in ground_latlons]\n",
    "\n",
    "# Search for the downlink windows\n",
    "downlink_windows = Window()\n",
    "Now = Time('2024-10-30')\n",
    "for station in ground_targets:\n",
    "    downlink_windows += station.get_downlink_windows(Now, Now+1*u.day, max_cloud_cover, elevation_min, \n",
    "                                                     pivot_angle, antenna, telescope_boresight, satellite)\n",
    "\n",
    "# Filter and merge the downlink windows\n",
    "downlink_windows.filter(3*60).merge()\n",
    "\n",
    "runtime = timeit.default_timer() - code_start\n",
    "print('code runtime:', runtime/60, 'min')\n",
    "\n",
    "downlink_windows.list"
   ]
  },
  {
   "cell_type": "code",
   "execution_count": 5,
   "id": "d7b9dfb1-6c7f-486d-bc48-f36aac67df4f",
   "metadata": {},
   "outputs": [
    {
     "data": {
      "text/plain": [
       "(<Time object: scale='utc' format='iso' value=2024-10-30 00:26:11.965>,\n",
       " <Time object: scale='utc' format='iso' value=2024-10-30 00:30:34.965>)"
      ]
     },
     "execution_count": 5,
     "metadata": {},
     "output_type": "execute_result"
    }
   ],
   "source": [
    "first = downlink_windows.list.pop(0)\n",
    "first"
   ]
  },
  {
   "cell_type": "code",
   "execution_count": 6,
   "id": "a6e8d7ac-3fd7-4c18-8409-2ce4fd0368ec",
   "metadata": {},
   "outputs": [
    {
     "data": {
      "text/plain": [
       "[(<Time object: scale='utc' format='iso' value=2024-10-30 07:09:57.611>,\n",
       "  <Time object: scale='utc' format='iso' value=2024-10-30 07:13:36.611>),\n",
       " (<Time object: scale='utc' format='iso' value=2024-10-30 11:42:04.293>,\n",
       "  <Time object: scale='utc' format='iso' value=2024-10-30 11:46:10.293>),\n",
       " (<Time object: scale='utc' format='iso' value=2024-10-30 18:26:25.737>,\n",
       "  <Time object: scale='utc' format='iso' value=2024-10-30 18:30:17.737>)]"
      ]
     },
     "execution_count": 6,
     "metadata": {},
     "output_type": "execute_result"
    }
   ],
   "source": [
    "downlink_windows.list"
   ]
  },
  {
   "cell_type": "code",
   "execution_count": 10,
   "id": "5f32d157-f93c-4dfc-bdae-92a73eab0415",
   "metadata": {},
   "outputs": [
    {
     "data": {
      "text/plain": [
       "3"
      ]
     },
     "execution_count": 10,
     "metadata": {},
     "output_type": "execute_result"
    }
   ],
   "source": [
    "downlink_windows.update_num()\n",
    "downlink_windows.num"
   ]
  },
  {
   "cell_type": "code",
   "execution_count": 14,
   "id": "fa56c489-a086-4f97-a428-3e9e0c575748",
   "metadata": {},
   "outputs": [
    {
     "data": {
      "text/plain": [
       "3"
      ]
     },
     "execution_count": 14,
     "metadata": {},
     "output_type": "execute_result"
    }
   ],
   "source": [
    "a = Window([(1,1)]) \n",
    "a += Window([(2,2),(3,3)]) \n",
    "a.num"
   ]
  },
  {
   "cell_type": "code",
   "execution_count": null,
   "id": "f45a708b-d632-49d1-a313-51dd04a29c57",
   "metadata": {},
   "outputs": [],
   "source": []
  }
 ],
 "metadata": {
  "kernelspec": {
   "display_name": "Python 3 (ipykernel)",
   "language": "python",
   "name": "python3"
  },
  "language_info": {
   "codemirror_mode": {
    "name": "ipython",
    "version": 3
   },
   "file_extension": ".py",
   "mimetype": "text/x-python",
   "name": "python",
   "nbconvert_exporter": "python",
   "pygments_lexer": "ipython3",
   "version": "3.10.5"
  },
  "widgets": {
   "application/vnd.jupyter.widget-state+json": {
    "state": {},
    "version_major": 2,
    "version_minor": 0
   }
  }
 },
 "nbformat": 4,
 "nbformat_minor": 5
}
